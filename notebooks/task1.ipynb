{
 "cells": [
  {
   "cell_type": "code",
   "execution_count": 33,
   "metadata": {
    "collapsed": true
   },
   "outputs": [],
   "source": [
    "import numpy as np\n",
    "import matplotlib.pyplot as plt"
   ]
  },
  {
   "cell_type": "code",
   "execution_count": 34,
   "outputs": [],
   "source": [
    "ex1data1 = np.loadtxt(\"../models/ex1data1.txt\", delimiter=',')"
   ],
   "metadata": {
    "collapsed": false,
    "pycharm": {
     "name": "#%%\n"
    }
   }
  },
  {
   "cell_type": "code",
   "execution_count": 35,
   "outputs": [
    {
     "data": {
      "text/plain": "<Figure size 648x504 with 1 Axes>",
      "image/png": "[encoded data removed]"
     },
     "metadata": {
      "needs_background": "light"
     },
     "output_type": "display_data"
    }
   ],
   "source": [
    "fig, ax = plt.subplots(figsize=(9,7))\n",
    "ax.plot(ex1data1[:,0], ex1data1[:,1], 'x', color='red')\n",
    "ax.set(xlabel='Population of City in 10,000s', ylabel='Profit in $10,000s',\n",
    "       title='Точечный график обучающей выборки')\n",
    "ax.grid()"
   ],
   "metadata": {
    "collapsed": false,
    "pycharm": {
     "name": "#%%\n"
    }
   }
  },
  {
   "cell_type": "code",
   "execution_count": 36,
   "outputs": [],
   "source": [
    "m = ex1data1.shape[0]\n",
    "x, y = ex1data1[:, 0], ex1data1[:, 1]"
   ],
   "metadata": {
    "collapsed": false,
    "pycharm": {
     "name": "#%%\n"
    }
   }
  },
  {
   "cell_type": "code",
   "execution_count": 37,
   "outputs": [
    {
     "data": {
      "text/plain": "array([[ 1.    ,  6.1101],\n       [ 1.    ,  5.5277],\n       [ 1.    ,  8.5186],\n       [ 1.    ,  7.0032],\n       [ 1.    ,  5.8598],\n       [ 1.    ,  8.3829],\n       [ 1.    ,  7.4764],\n       [ 1.    ,  8.5781],\n       [ 1.    ,  6.4862],\n       [ 1.    ,  5.0546],\n       [ 1.    ,  5.7107],\n       [ 1.    , 14.164 ],\n       [ 1.    ,  5.734 ],\n       [ 1.    ,  8.4084],\n       [ 1.    ,  5.6407],\n       [ 1.    ,  5.3794],\n       [ 1.    ,  6.3654],\n       [ 1.    ,  5.1301],\n       [ 1.    ,  6.4296],\n       [ 1.    ,  7.0708],\n       [ 1.    ,  6.1891],\n       [ 1.    , 20.27  ],\n       [ 1.    ,  5.4901],\n       [ 1.    ,  6.3261],\n       [ 1.    ,  5.5649],\n       [ 1.    , 18.945 ],\n       [ 1.    , 12.828 ],\n       [ 1.    , 10.957 ],\n       [ 1.    , 13.176 ],\n       [ 1.    , 22.203 ],\n       [ 1.    ,  5.2524],\n       [ 1.    ,  6.5894],\n       [ 1.    ,  9.2482],\n       [ 1.    ,  5.8918],\n       [ 1.    ,  8.2111],\n       [ 1.    ,  7.9334],\n       [ 1.    ,  8.0959],\n       [ 1.    ,  5.6063],\n       [ 1.    , 12.836 ],\n       [ 1.    ,  6.3534],\n       [ 1.    ,  5.4069],\n       [ 1.    ,  6.8825],\n       [ 1.    , 11.708 ],\n       [ 1.    ,  5.7737],\n       [ 1.    ,  7.8247],\n       [ 1.    ,  7.0931],\n       [ 1.    ,  5.0702],\n       [ 1.    ,  5.8014],\n       [ 1.    , 11.7   ],\n       [ 1.    ,  5.5416],\n       [ 1.    ,  7.5402],\n       [ 1.    ,  5.3077],\n       [ 1.    ,  7.4239],\n       [ 1.    ,  7.6031],\n       [ 1.    ,  6.3328],\n       [ 1.    ,  6.3589],\n       [ 1.    ,  6.2742],\n       [ 1.    ,  5.6397],\n       [ 1.    ,  9.3102],\n       [ 1.    ,  9.4536],\n       [ 1.    ,  8.8254],\n       [ 1.    ,  5.1793],\n       [ 1.    , 21.279 ],\n       [ 1.    , 14.908 ],\n       [ 1.    , 18.959 ],\n       [ 1.    ,  7.2182],\n       [ 1.    ,  8.2951],\n       [ 1.    , 10.236 ],\n       [ 1.    ,  5.4994],\n       [ 1.    , 20.341 ],\n       [ 1.    , 10.136 ],\n       [ 1.    ,  7.3345],\n       [ 1.    ,  6.0062],\n       [ 1.    ,  7.2259],\n       [ 1.    ,  5.0269],\n       [ 1.    ,  6.5479],\n       [ 1.    ,  7.5386],\n       [ 1.    ,  5.0365],\n       [ 1.    , 10.274 ],\n       [ 1.    ,  5.1077],\n       [ 1.    ,  5.7292],\n       [ 1.    ,  5.1884],\n       [ 1.    ,  6.3557],\n       [ 1.    ,  9.7687],\n       [ 1.    ,  6.5159],\n       [ 1.    ,  8.5172],\n       [ 1.    ,  9.1802],\n       [ 1.    ,  6.002 ],\n       [ 1.    ,  5.5204],\n       [ 1.    ,  5.0594],\n       [ 1.    ,  5.7077],\n       [ 1.    ,  7.6366],\n       [ 1.    ,  5.8707],\n       [ 1.    ,  5.3054],\n       [ 1.    ,  8.2934],\n       [ 1.    , 13.394 ],\n       [ 1.    ,  5.4369]])"
     },
     "execution_count": 37,
     "metadata": {},
     "output_type": "execute_result"
    }
   ],
   "source": [
    "x = np.hstack((np.ones((m, 1)), x.reshape((m, 1))))\n",
    "theta = np.zeros((2, 1))\n",
    "iterations = 1500\n",
    "alpha = 0.01\n",
    "x"
   ],
   "metadata": {
    "collapsed": false,
    "pycharm": {
     "name": "#%%\n"
    }
   }
  },
  {
   "cell_type": "code",
   "execution_count": 38,
   "outputs": [],
   "source": [
    "def compute_cost(x, y, theta):\n",
    "       h = theta.transpose() * x\n",
    "       print(x, theta, h, y)\n",
    "       inner = h - y.reshape(())\n",
    "       squared = inner ** 2\n",
    "       summed = np.sum(squared)\n",
    "       return summed / (2 * m)"
   ],
   "metadata": {
    "collapsed": false,
    "pycharm": {
     "name": "#%%\n"
    }
   }
  },
  {
   "cell_type": "code",
   "execution_count": 39,
   "outputs": [
    {
     "name": "stdout",
     "output_type": "stream",
     "text": [
      "[[ 1.      6.1101]\n",
      " [ 1.      5.5277]\n",
      " [ 1.      8.5186]\n",
      " [ 1.      7.0032]\n",
      " [ 1.      5.8598]\n",
      " [ 1.      8.3829]\n",
      " [ 1.      7.4764]\n",
      " [ 1.      8.5781]\n",
      " [ 1.      6.4862]\n",
      " [ 1.      5.0546]\n",
      " [ 1.      5.7107]\n",
      " [ 1.     14.164 ]\n",
      " [ 1.      5.734 ]\n",
      " [ 1.      8.4084]\n",
      " [ 1.      5.6407]\n",
      " [ 1.      5.3794]\n",
      " [ 1.      6.3654]\n",
      " [ 1.      5.1301]\n",
      " [ 1.      6.4296]\n",
      " [ 1.      7.0708]\n",
      " [ 1.      6.1891]\n",
      " [ 1.     20.27  ]\n",
      " [ 1.      5.4901]\n",
      " [ 1.      6.3261]\n",
      " [ 1.      5.5649]\n",
      " [ 1.     18.945 ]\n",
      " [ 1.     12.828 ]\n",
      " [ 1.     10.957 ]\n",
      " [ 1.     13.176 ]\n",
      " [ 1.     22.203 ]\n",
      " [ 1.      5.2524]\n",
      " [ 1.      6.5894]\n",
      " [ 1.      9.2482]\n",
      " [ 1.      5.8918]\n",
      " [ 1.      8.2111]\n",
      " [ 1.      7.9334]\n",
      " [ 1.      8.0959]\n",
      " [ 1.      5.6063]\n",
      " [ 1.     12.836 ]\n",
      " [ 1.      6.3534]\n",
      " [ 1.      5.4069]\n",
      " [ 1.      6.8825]\n",
      " [ 1.     11.708 ]\n",
      " [ 1.      5.7737]\n",
      " [ 1.      7.8247]\n",
      " [ 1.      7.0931]\n",
      " [ 1.      5.0702]\n",
      " [ 1.      5.8014]\n",
      " [ 1.     11.7   ]\n",
      " [ 1.      5.5416]\n",
      " [ 1.      7.5402]\n",
      " [ 1.      5.3077]\n",
      " [ 1.      7.4239]\n",
      " [ 1.      7.6031]\n",
      " [ 1.      6.3328]\n",
      " [ 1.      6.3589]\n",
      " [ 1.      6.2742]\n",
      " [ 1.      5.6397]\n",
      " [ 1.      9.3102]\n",
      " [ 1.      9.4536]\n",
      " [ 1.      8.8254]\n",
      " [ 1.      5.1793]\n",
      " [ 1.     21.279 ]\n",
      " [ 1.     14.908 ]\n",
      " [ 1.     18.959 ]\n",
      " [ 1.      7.2182]\n",
      " [ 1.      8.2951]\n",
      " [ 1.     10.236 ]\n",
      " [ 1.      5.4994]\n",
      " [ 1.     20.341 ]\n",
      " [ 1.     10.136 ]\n",
      " [ 1.      7.3345]\n",
      " [ 1.      6.0062]\n",
      " [ 1.      7.2259]\n",
      " [ 1.      5.0269]\n",
      " [ 1.      6.5479]\n",
      " [ 1.      7.5386]\n",
      " [ 1.      5.0365]\n",
      " [ 1.     10.274 ]\n",
      " [ 1.      5.1077]\n",
      " [ 1.      5.7292]\n",
      " [ 1.      5.1884]\n",
      " [ 1.      6.3557]\n",
      " [ 1.      9.7687]\n",
      " [ 1.      6.5159]\n",
      " [ 1.      8.5172]\n",
      " [ 1.      9.1802]\n",
      " [ 1.      6.002 ]\n",
      " [ 1.      5.5204]\n",
      " [ 1.      5.0594]\n",
      " [ 1.      5.7077]\n",
      " [ 1.      7.6366]\n",
      " [ 1.      5.8707]\n",
      " [ 1.      5.3054]\n",
      " [ 1.      8.2934]\n",
      " [ 1.     13.394 ]\n",
      " [ 1.      5.4369]] [[0.]\n",
      " [0.]] [[0. 0.]\n",
      " [0. 0.]\n",
      " [0. 0.]\n",
      " [0. 0.]\n",
      " [0. 0.]\n",
      " [0. 0.]\n",
      " [0. 0.]\n",
      " [0. 0.]\n",
      " [0. 0.]\n",
      " [0. 0.]\n",
      " [0. 0.]\n",
      " [0. 0.]\n",
      " [0. 0.]\n",
      " [0. 0.]\n",
      " [0. 0.]\n",
      " [0. 0.]\n",
      " [0. 0.]\n",
      " [0. 0.]\n",
      " [0. 0.]\n",
      " [0. 0.]\n",
      " [0. 0.]\n",
      " [0. 0.]\n",
      " [0. 0.]\n",
      " [0. 0.]\n",
      " [0. 0.]\n",
      " [0. 0.]\n",
      " [0. 0.]\n",
      " [0. 0.]\n",
      " [0. 0.]\n",
      " [0. 0.]\n",
      " [0. 0.]\n",
      " [0. 0.]\n",
      " [0. 0.]\n",
      " [0. 0.]\n",
      " [0. 0.]\n",
      " [0. 0.]\n",
      " [0. 0.]\n",
      " [0. 0.]\n",
      " [0. 0.]\n",
      " [0. 0.]\n",
      " [0. 0.]\n",
      " [0. 0.]\n",
      " [0. 0.]\n",
      " [0. 0.]\n",
      " [0. 0.]\n",
      " [0. 0.]\n",
      " [0. 0.]\n",
      " [0. 0.]\n",
      " [0. 0.]\n",
      " [0. 0.]\n",
      " [0. 0.]\n",
      " [0. 0.]\n",
      " [0. 0.]\n",
      " [0. 0.]\n",
      " [0. 0.]\n",
      " [0. 0.]\n",
      " [0. 0.]\n",
      " [0. 0.]\n",
      " [0. 0.]\n",
      " [0. 0.]\n",
      " [0. 0.]\n",
      " [0. 0.]\n",
      " [0. 0.]\n",
      " [0. 0.]\n",
      " [0. 0.]\n",
      " [0. 0.]\n",
      " [0. 0.]\n",
      " [0. 0.]\n",
      " [0. 0.]\n",
      " [0. 0.]\n",
      " [0. 0.]\n",
      " [0. 0.]\n",
      " [0. 0.]\n",
      " [0. 0.]\n",
      " [0. 0.]\n",
      " [0. 0.]\n",
      " [0. 0.]\n",
      " [0. 0.]\n",
      " [0. 0.]\n",
      " [0. 0.]\n",
      " [0. 0.]\n",
      " [0. 0.]\n",
      " [0. 0.]\n",
      " [0. 0.]\n",
      " [0. 0.]\n",
      " [0. 0.]\n",
      " [0. 0.]\n",
      " [0. 0.]\n",
      " [0. 0.]\n",
      " [0. 0.]\n",
      " [0. 0.]\n",
      " [0. 0.]\n",
      " [0. 0.]\n",
      " [0. 0.]\n",
      " [0. 0.]\n",
      " [0. 0.]\n",
      " [0. 0.]] [17.592    9.1302  13.662   11.854    6.8233  11.886    4.3483  12.\n",
      "  6.5987   3.8166   3.2522  15.505    3.1551   7.2258   0.71618  3.5129\n",
      "  5.3048   0.56077  3.6518   5.3893   3.1386  21.767    4.263    5.1875\n",
      "  3.0825  22.638   13.501    7.0467  14.692   24.147   -1.22     5.9966\n",
      " 12.134    1.8495   6.5426   4.5623   4.1164   3.3928  10.117    5.4974\n",
      "  0.55657  3.9115   5.3854   2.4406   6.7318   1.0463   5.1337   1.844\n",
      "  8.0043   1.0179   6.7504   1.8396   4.2885   4.9981   1.4233  -1.4211\n",
      "  2.4756   4.6042   3.9624   5.4141   5.1694  -0.74279 17.929   12.054\n",
      " 17.054    4.8852   5.7442   7.7754   1.0173  20.992    6.6799   4.0259\n",
      "  1.2784   3.3411  -2.6807   0.29678  3.8845   5.7014   6.7526   2.0576\n",
      "  0.47953  0.20421  0.67861  7.5435   5.3436   4.2415   6.7981   0.92695\n",
      "  0.152    2.8214   1.8451   4.2959   7.2029   1.9869   0.14454  9.0551\n",
      "  0.61705]\n"
     ]
    },
    {
     "ename": "ValueError",
     "evalue": "cannot reshape array of size 97 into shape ()",
     "output_type": "error",
     "traceback": [
      "\u001B[0;31m---------------------------------------------------------------------------\u001B[0m",
      "\u001B[0;31mValueError\u001B[0m                                Traceback (most recent call last)",
      "Input \u001B[0;32mIn [39]\u001B[0m, in \u001B[0;36m<module>\u001B[0;34m\u001B[0m\n\u001B[0;32m----> 1\u001B[0m j \u001B[38;5;241m=\u001B[39m \u001B[43mcompute_cost\u001B[49m\u001B[43m(\u001B[49m\u001B[43mx\u001B[49m\u001B[43m,\u001B[49m\u001B[43m \u001B[49m\u001B[43my\u001B[49m\u001B[43m,\u001B[49m\u001B[43m \u001B[49m\u001B[43mtheta\u001B[49m\u001B[43m)\u001B[49m\n\u001B[1;32m      2\u001B[0m \u001B[38;5;28mprint\u001B[39m(\u001B[38;5;124m\"\u001B[39m\u001B[38;5;124mWith theta\u001B[39m\u001B[38;5;124m\"\u001B[39m, theta\u001B[38;5;241m.\u001B[39mreshape((\u001B[38;5;241m2\u001B[39m,)), \u001B[38;5;124m\"\u001B[39m\u001B[38;5;124mcomputed value is\u001B[39m\u001B[38;5;124m\"\u001B[39m, j)\n\u001B[1;32m      3\u001B[0m \u001B[38;5;28mprint\u001B[39m(\u001B[38;5;124m\"\u001B[39m\u001B[38;5;124mExpected cost value (approx) 32.07\u001B[39m\u001B[38;5;124m\"\u001B[39m)\n",
      "Input \u001B[0;32mIn [38]\u001B[0m, in \u001B[0;36mcompute_cost\u001B[0;34m(x, y, theta)\u001B[0m\n\u001B[1;32m      2\u001B[0m h \u001B[38;5;241m=\u001B[39m theta\u001B[38;5;241m.\u001B[39mtranspose() \u001B[38;5;241m*\u001B[39m x\n\u001B[1;32m      3\u001B[0m \u001B[38;5;28mprint\u001B[39m(x, theta, h, y)\n\u001B[0;32m----> 4\u001B[0m inner \u001B[38;5;241m=\u001B[39m h \u001B[38;5;241m-\u001B[39m \u001B[43my\u001B[49m\u001B[38;5;241;43m.\u001B[39;49m\u001B[43mreshape\u001B[49m\u001B[43m(\u001B[49m\u001B[43m(\u001B[49m\u001B[43m)\u001B[49m\u001B[43m)\u001B[49m\n\u001B[1;32m      5\u001B[0m squared \u001B[38;5;241m=\u001B[39m inner \u001B[38;5;241m*\u001B[39m\u001B[38;5;241m*\u001B[39m \u001B[38;5;241m2\u001B[39m\n\u001B[1;32m      6\u001B[0m summed \u001B[38;5;241m=\u001B[39m np\u001B[38;5;241m.\u001B[39msum(squared)\n",
      "\u001B[0;31mValueError\u001B[0m: cannot reshape array of size 97 into shape ()"
     ]
    }
   ],
   "source": [
    "j = compute_cost(x, y, theta)\n",
    "print(\"With theta\", theta.reshape((2,)), \"computed value is\", j)\n",
    "print(\"Expected cost value (approx) 32.07\")\n",
    "\n",
    "j = compute_cost(x, y, np.array([-1, 2]).reshape((2, 1)))\n",
    "print(\"With theta\", \"[-1, 2]\", \"computed value is\", j)\n",
    "print(\"Expected cost value (approx) 54.24\")"
   ],
   "metadata": {
    "collapsed": false,
    "pycharm": {
     "name": "#%%\n"
    }
   }
  }
 ],
 "metadata": {
  "kernelspec": {
   "display_name": "Python 3",
   "language": "python",
   "name": "python3"
  },
  "language_info": {
   "codemirror_mode": {
    "name": "ipython",
    "version": 2
   },
   "file_extension": ".py",
   "mimetype": "text/x-python",
   "name": "python",
   "nbconvert_exporter": "python",
   "pygments_lexer": "ipython2",
   "version": "2.7.6"
  }
 },
 "nbformat": 4,
 "nbformat_minor": 0
}