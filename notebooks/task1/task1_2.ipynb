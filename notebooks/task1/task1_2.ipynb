{
 "cells": [
  {
   "cell_type": "code",
   "execution_count": 10,
   "metadata": {
    "collapsed": true,
    "pycharm": {
     "name": "#%%\n"
    }
   },
   "outputs": [],
   "source": [
    "import numpy as np\n",
    "import matplotlib.pyplot as plt\n",
    "from matplotlib import cm"
   ]
  },
  {
   "cell_type": "code",
   "execution_count": 11,
   "outputs": [],
   "source": [
    "ex1data2 = np.loadtxt(\"../../models/ex1data2.txt\", delimiter=',')"
   ],
   "metadata": {
    "collapsed": false,
    "pycharm": {
     "name": "#%%\n"
    }
   }
  },
  {
   "cell_type": "code",
   "execution_count": 12,
   "outputs": [
    {
     "name": "stdout",
     "output_type": "stream",
     "text": [
      "x=[2104.    3.] y=399900.0\n",
      "x=[1600.    3.] y=329900.0\n",
      "x=[2400.    3.] y=369000.0\n",
      "x=[1416.    2.] y=232000.0\n",
      "x=[3000.    4.] y=539900.0\n",
      "x=[1985.    4.] y=299900.0\n",
      "x=[1534.    3.] y=314900.0\n",
      "x=[1427.    3.] y=198999.0\n",
      "x=[1380.    3.] y=212000.0\n",
      "x=[1494.    3.] y=242500.0\n"
     ]
    }
   ],
   "source": [
    "m = ex1data2.shape[0]\n",
    "raw_x, y = ex1data2[:, 0:2], ex1data2[:, 2]\n",
    "for i in range(10):\n",
    "    print(f'x={raw_x[i]} y={y[i]}')"
   ],
   "metadata": {
    "collapsed": false,
    "pycharm": {
     "name": "#%%\n"
    }
   }
  },
  {
   "cell_type": "code",
   "execution_count": 13,
   "outputs": [
    {
     "data": {
      "text/plain": "array([[ 1.00000000e+00,  1.31415422e-01, -2.26093368e-01],\n       [ 1.00000000e+00, -5.09640698e-01, -2.26093368e-01],\n       [ 1.00000000e+00,  5.07908699e-01, -2.26093368e-01],\n       [ 1.00000000e+00, -7.43677059e-01, -1.55439190e+00],\n       [ 1.00000000e+00,  1.27107075e+00,  1.10220517e+00],\n       [ 1.00000000e+00, -1.99450507e-02,  1.10220517e+00],\n       [ 1.00000000e+00, -5.93588523e-01, -2.26093368e-01],\n       [ 1.00000000e+00, -7.29685755e-01, -2.26093368e-01],\n       [ 1.00000000e+00, -7.89466782e-01, -2.26093368e-01],\n       [ 1.00000000e+00, -6.44465993e-01, -2.26093368e-01],\n       [ 1.00000000e+00, -7.71822042e-02,  1.10220517e+00],\n       [ 1.00000000e+00, -8.65999486e-04, -2.26093368e-01],\n       [ 1.00000000e+00, -1.40779041e-01, -2.26093368e-01],\n       [ 1.00000000e+00,  3.15099326e+00,  2.43050370e+00],\n       [ 1.00000000e+00, -9.31923697e-01, -2.26093368e-01],\n       [ 1.00000000e+00,  3.80715024e-01,  1.10220517e+00],\n       [ 1.00000000e+00, -8.65782986e-01, -1.55439190e+00],\n       [ 1.00000000e+00, -9.72625673e-01, -2.26093368e-01],\n       [ 1.00000000e+00,  7.73743478e-01,  1.10220517e+00],\n       [ 1.00000000e+00,  1.31050078e+00,  1.10220517e+00],\n       [ 1.00000000e+00, -2.97227261e-01, -2.26093368e-01],\n       [ 1.00000000e+00, -1.43322915e-01, -1.55439190e+00],\n       [ 1.00000000e+00, -5.04552951e-01, -2.26093368e-01],\n       [ 1.00000000e+00, -4.91995958e-02,  1.10220517e+00],\n       [ 1.00000000e+00,  2.40309445e+00, -2.26093368e-01],\n       [ 1.00000000e+00, -1.14560907e+00, -2.26093368e-01],\n       [ 1.00000000e+00, -6.90255715e-01, -2.26093368e-01],\n       [ 1.00000000e+00,  6.68172729e-01, -2.26093368e-01],\n       [ 1.00000000e+00,  2.53521350e-01, -2.26093368e-01],\n       [ 1.00000000e+00,  8.09357707e-01, -2.26093368e-01],\n       [ 1.00000000e+00, -2.05647815e-01, -1.55439190e+00],\n       [ 1.00000000e+00, -1.27280274e+00, -2.88269044e+00],\n       [ 1.00000000e+00,  5.00114703e-02,  1.10220517e+00],\n       [ 1.00000000e+00,  1.44532608e+00, -2.26093368e-01],\n       [ 1.00000000e+00, -2.41262044e-01,  1.10220517e+00],\n       [ 1.00000000e+00, -7.16966387e-01, -2.26093368e-01],\n       [ 1.00000000e+00, -9.68809863e-01, -2.26093368e-01],\n       [ 1.00000000e+00,  1.67029651e-01,  1.10220517e+00],\n       [ 1.00000000e+00,  2.81647389e+00,  1.10220517e+00],\n       [ 1.00000000e+00,  2.05187753e-01,  1.10220517e+00],\n       [ 1.00000000e+00, -4.28236746e-01, -1.55439190e+00],\n       [ 1.00000000e+00,  3.01854946e-01, -2.26093368e-01],\n       [ 1.00000000e+00,  7.20322135e-01,  1.10220517e+00],\n       [ 1.00000000e+00, -1.01841540e+00, -2.26093368e-01],\n       [ 1.00000000e+00, -1.46104938e+00, -1.55439190e+00],\n       [ 1.00000000e+00, -1.89112638e-01,  1.10220517e+00],\n       [ 1.00000000e+00, -1.01459959e+00, -2.26093368e-01]])"
     },
     "execution_count": 13,
     "metadata": {},
     "output_type": "execute_result"
    }
   ],
   "source": [
    "def feature_normalize(x):\n",
    "    mu = np.mean(x, axis=0)\n",
    "    sigma = np.std(x, axis=0)\n",
    "    return (x - mu) / sigma, mu, sigma\n",
    "\n",
    "\n",
    "x, mu, sigma = feature_normalize(raw_x)\n",
    "\n",
    "def append_ones(x):\n",
    "    return np.hstack((np.ones((m, 1)), x))\n",
    "\n",
    "x = append_ones(x)\n",
    "x"
   ],
   "metadata": {
    "collapsed": false,
    "pycharm": {
     "name": "#%%\n"
    }
   }
  },
  {
   "cell_type": "code",
   "execution_count": 14,
   "outputs": [],
   "source": [
    "alpha = 1\n",
    "num_iters = 20\n",
    "theta = np.zeros((3, 1))"
   ],
   "metadata": {
    "collapsed": false,
    "pycharm": {
     "name": "#%%\n"
    }
   }
  },
  {
   "cell_type": "code",
   "execution_count": 15,
   "outputs": [
    {
     "name": "stdout",
     "output_type": "stream",
     "text": [
      "[340412.65957447 109446.79079183  -6578.29440794]\n"
     ]
    }
   ],
   "source": [
    "def compute_cost(x, y, theta):\n",
    "    m = y.size\n",
    "    l = x @ theta - y.reshape((m, 1))\n",
    "    return (l.T @ l / 2 / m).item()\n",
    "\n",
    "\n",
    "def gradient_descent_multi(x, y, theta, alpha, num_iters):\n",
    "    m = y.size\n",
    "    j_history = list()\n",
    "    for _ in range(num_iters):\n",
    "        l = x @ theta - y.reshape((m, 1))\n",
    "        k = x.T @ l\n",
    "        theta = theta - alpha / m * k\n",
    "        j_history.append(compute_cost(x, y, theta))\n",
    "    return theta, j_history\n",
    "\n",
    "\n",
    "# > Подсказка. В частности, если вы все правильно реализуете, то насколько сильно будет\n",
    "# > отличаться код для однофакторной регрессии от кода для многофакторной регрессии?\n",
    "# Никак ¯\\_(ツ)_/¯\n",
    "\n",
    "theta, j_history = gradient_descent_multi(x, y, theta, alpha, num_iters)\n",
    "print(theta.flatten())"
   ],
   "metadata": {
    "collapsed": false,
    "pycharm": {
     "name": "#%%\n"
    }
   }
  },
  {
   "cell_type": "code",
   "execution_count": 16,
   "outputs": [
    {
     "data": {
      "text/plain": "<Figure size 648x504 with 1 Axes>",
      "image/png": "[encoded data removed]"
     },
     "metadata": {
      "needs_background": "light"
     },
     "output_type": "display_data"
    }
   ],
   "source": [
    "fig, ax = plt.subplots(figsize=(9, 7))\n",
    "ax.plot(np.arange(1, len(j_history) + 1), j_history, color='red')\n",
    "ax.set(xlabel='Number of iterations', ylabel='Cost J',\n",
    "        title='Convergence of Gradient Descent with Adequate Learning Rate')\n",
    "ax.grid()"
   ],
   "metadata": {
    "collapsed": false,
    "pycharm": {
     "name": "#%%\n"
    }
   }
  },
  {
   "cell_type": "code",
   "execution_count": 17,
   "outputs": [
    {
     "name": "stdout",
     "output_type": "stream",
     "text": [
      "[89597.9095428    139.21067402 -8738.01911233]\n"
     ]
    }
   ],
   "source": [
    "def normal_equation(x, y):\n",
    "    return np.linalg.inv(x.T @ x) @ (x.T @ y)\n",
    "\n",
    "normal_theta = normal_equation(append_ones(raw_x), y)\n",
    "print(normal_theta.flatten())"
   ],
   "metadata": {
    "collapsed": false,
    "pycharm": {
     "name": "#%%\n"
    }
   }
  },
  {
   "cell_type": "code",
   "execution_count": 18,
   "outputs": [
    {
     "name": "stdout",
     "output_type": "stream",
     "text": [
      "Predicted price of a 1650 sq-mt, 3 br house (using gradient descent):\n",
      "293081.89924482163\n",
      "Predicted price of a 1650 sq-mt, 3 br house (using normal equations):\n",
      "293081.4643348973\n"
     ]
    }
   ],
   "source": [
    "def predict_price(sqf, br, theta, mu, sigma):\n",
    "    normalized_data = (np.array([[sqf, br]]) - mu) / sigma\n",
    "    query = np.hstack((np.ones((1, 1)), normalized_data))\n",
    "    result = query @ theta\n",
    "    return result.item()\n",
    "\n",
    "\n",
    "print('Predicted price of a 1650 sq-mt, 3 br house (using gradient descent):')\n",
    "print(predict_price(1650, 3, theta, mu, sigma))\n",
    "\n",
    "print('Predicted price of a 1650 sq-mt, 3 br house (using normal equations):')\n",
    "print(predict_price(1650, 3, normal_theta, 0, 1))"
   ],
   "metadata": {
    "collapsed": false,
    "pycharm": {
     "name": "#%%\n"
    }
   }
  }
 ],
 "metadata": {
  "kernelspec": {
   "display_name": "Python 3",
   "language": "python",
   "name": "python3"
  },
  "language_info": {
   "codemirror_mode": {
    "name": "ipython",
    "version": 2
   },
   "file_extension": ".py",
   "mimetype": "text/x-python",
   "name": "python",
   "nbconvert_exporter": "python",
   "pygments_lexer": "ipython2",
   "version": "2.7.6"
  }
 },
 "nbformat": 4,
 "nbformat_minor": 0
}