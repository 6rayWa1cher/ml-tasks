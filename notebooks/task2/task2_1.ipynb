{
 "cells": [
  {
   "cell_type": "code",
   "execution_count": 80,
   "metadata": {
    "collapsed": true,
    "pycharm": {
     "name": "#%%\n"
    }
   },
   "outputs": [],
   "source": [
    "import numpy as np\n",
    "import matplotlib.pyplot as plt\n",
    "from matplotlib import cm\n",
    "import scipy.optimize as op"
   ]
  },
  {
   "cell_type": "code",
   "execution_count": 81,
   "outputs": [],
   "source": [
    "ex2data1 = np.loadtxt(\"../../models/ex2data1.txt\",\n",
    "delimiter=',')"
   ],
   "metadata": {
    "collapsed": false,
    "pycharm": {
     "name": "#%%\n"
    }
   }
  },
  {
   "cell_type": "code",
   "execution_count": 82,
   "outputs": [],
   "source": [
    "def plot_data(x, y, title='Scatter plot of the training sample'):\n",
    "    fig, ax = plt.subplots(figsize=(9, 7))\n",
    "    data = np.hstack((x, y.reshape((len(y), 1))))\n",
    "    false_data = data[np.in1d(data[:, 2], [0])]\n",
    "    true_data = data[np.in1d(data[:, 2], [1])]\n",
    "    ax.plot(false_data[:, 0], false_data[:, 1], 'o', color='red', label='Not admitted')\n",
    "    ax.plot(true_data[:, 0], true_data[:, 1], '+', color='green', label='Admitted')\n",
    "    ax.set(xlabel='Exam 1 score', ylabel='Exam 1 score',\n",
    "           title=title)\n",
    "    ax.grid()\n",
    "    ax.legend()\n",
    "\n",
    "\n",
    "def plot_data_with_decision(x, y, theta, title='Scatter plot of the training sample'):\n",
    "    fig, ax = plt.subplots(figsize=(9, 7))\n",
    "    data = np.hstack((x, y.reshape((len(y), 1))))\n",
    "    false_data = data[np.in1d(data[:, 2], [0])]\n",
    "    true_data = data[np.in1d(data[:, 2], [1])]\n",
    "    ax.plot(false_data[:, 0], false_data[:, 1], 'o', color='red', label='Not admitted')\n",
    "    ax.plot(true_data[:, 0], true_data[:, 1], '+', color='green', label='Admitted')\n",
    "    ax.set(xlabel='Exam 1 score', ylabel='Exam 1 score',\n",
    "           title=title)\n",
    "\n",
    "    plot_x = np.array([np.min(x[:, 1]), np.max(x[:, 1])])\n",
    "    plot_y = (-1 / theta[2]) * (theta[1] * plot_x + theta[0])\n",
    "    ax.plot(plot_x, plot_y, label='decision')\n",
    "\n",
    "    ax.grid()\n",
    "    ax.legend()"
   ],
   "metadata": {
    "collapsed": false,
    "pycharm": {
     "name": "#%%\n"
    }
   }
  },
  {
   "cell_type": "code",
   "execution_count": 83,
   "outputs": [],
   "source": [
    "def sigmoid(z):\n",
    "    return 1 / (1 + np.exp(-z))\n",
    "\n",
    "\n",
    "def vector_to_column(x):\n",
    "    return x.reshape((x.shape[0], 1))\n",
    "\n",
    "\n",
    "def vector_to_row(x):\n",
    "    return x.reshape((1, x.shape[0]))"
   ],
   "metadata": {
    "collapsed": false,
    "pycharm": {
     "name": "#%%\n"
    }
   }
  },
  {
   "cell_type": "code",
   "execution_count": 84,
   "outputs": [],
   "source": [
    "def h_func(theta, x):\n",
    "    return sigmoid(theta.T @ x.T)"
   ],
   "metadata": {
    "collapsed": false,
    "pycharm": {
     "name": "#%%\n"
    }
   }
  },
  {
   "cell_type": "code",
   "execution_count": 85,
   "outputs": [],
   "source": [
    "def cost_function(theta, x, y):\n",
    "    theta = theta.reshape((len(theta), 1))\n",
    "    cost = np.sum(-y * np.log(h_func(theta, x)) - (1 - y) * np.log(1 - h_func(theta, x))) / m\n",
    "    return cost\n",
    "\n",
    "\n",
    "def cost_function_grad(theta, x, y):\n",
    "    theta = np.array(theta).reshape((len(theta), 1))\n",
    "    axis_m = np.sum((h_func(theta, x) - y) @ x, axis=0) / m\n",
    "    return axis_m"
   ],
   "metadata": {
    "collapsed": false,
    "pycharm": {
     "name": "#%%\n"
    }
   }
  },
  {
   "cell_type": "code",
   "execution_count": 86,
   "outputs": [
    {
     "name": "stdout",
     "output_type": "stream",
     "text": [
      "100 2\n"
     ]
    },
    {
     "data": {
      "text/plain": "<Figure size 648x504 with 1 Axes>",
      "image/png": "[encoded data removed]"
     },
     "metadata": {
      "needs_background": "light"
     },
     "output_type": "display_data"
    }
   ],
   "source": [
    "x, y = ex2data1[:, 0:2], ex2data1[:, 2]\n",
    "m, n = x.shape\n",
    "print(m, n)\n",
    "plot_data(x, y)"
   ],
   "metadata": {
    "collapsed": false,
    "pycharm": {
     "name": "#%%\n"
    }
   }
  },
  {
   "cell_type": "code",
   "execution_count": 87,
   "outputs": [],
   "source": [
    "def intercept(t):\n",
    "    return np.hstack((np.ones((m, 1)), t))"
   ],
   "metadata": {
    "collapsed": false,
    "pycharm": {
     "name": "#%%\n"
    }
   }
  },
  {
   "cell_type": "code",
   "execution_count": 88,
   "outputs": [
    {
     "name": "stdout",
     "output_type": "stream",
     "text": [
      "Стоимость для начального значения theta (нулевого): 0.6931471805599453\n",
      "Ожидаемая стоимость (примерно): 0.693\n",
      "Градиент для начального значения theta (нулевого): [ -0.1        -12.00921659 -11.26284221]\n",
      "Ожидаемые значения градиента (примерно): -0.1000 -12.0092 -11.2628\n"
     ]
    }
   ],
   "source": [
    "x_before = x\n",
    "x = intercept(x)\n",
    "initial_theta = np.zeros((n + 1, 1))\n",
    "cost = cost_function(initial_theta, x, y)\n",
    "grad = cost_function_grad(initial_theta, x, y)\n",
    "print(f'Стоимость для начального значения theta (нулевого): {cost}')\n",
    "print('Ожидаемая стоимость (примерно): 0.693')\n",
    "print(f'Градиент для начального значения theta (нулевого): {grad}')\n",
    "print('Ожидаемые значения градиента (примерно): -0.1000 -12.0092 -11.2628')"
   ],
   "metadata": {
    "collapsed": false,
    "pycharm": {
     "name": "#%%\n"
    }
   }
  },
  {
   "cell_type": "code",
   "execution_count": 89,
   "outputs": [
    {
     "name": "stdout",
     "output_type": "stream",
     "text": [
      "Стоимость для theta, найденная minimize: 0.2034977015894438\n",
      "Ожидаемая стоимость (примерно): 0.203\n",
      "theta: [-25.16133284   0.2062317    0.2014716 ]\n",
      "Ожидаемое значение theta (примерно): -25.161 0.206 0.201\n"
     ]
    },
    {
     "name": "stderr",
     "output_type": "stream",
     "text": [
      "/tmp/ipykernel_50349/731153179.py:3: RuntimeWarning: divide by zero encountered in log\n",
      "  cost = np.sum(-y * np.log(h_func(theta, x)) - (1 - y) * np.log(1 - h_func(theta, x))) / m\n",
      "/tmp/ipykernel_50349/731153179.py:3: RuntimeWarning: invalid value encountered in multiply\n",
      "  cost = np.sum(-y * np.log(h_func(theta, x)) - (1 - y) * np.log(1 - h_func(theta, x))) / m\n"
     ]
    },
    {
     "data": {
      "text/plain": "<Figure size 648x504 with 1 Axes>",
      "image/png": "[encoded data removed]"
     },
     "metadata": {
      "needs_background": "light"
     },
     "output_type": "display_data"
    }
   ],
   "source": [
    "theta = op.minimize(fun=cost_function,\n",
    "                    x0=initial_theta.T,\n",
    "                    args=(x, y),\n",
    "                    options={'maxiter': 400},\n",
    "                    jac=cost_function_grad).x\n",
    "cost = cost_function(theta.reshape((len(theta), 1)), x, y)\n",
    "print(f'Стоимость для theta, найденная minimize: {cost}')\n",
    "print('Ожидаемая стоимость (примерно): 0.203')\n",
    "print(f'theta: {theta}')\n",
    "print(f'Ожидаемое значение theta (примерно): -25.161 0.206 0.201')\n",
    "plot_data_with_decision(x_before, y, theta)"
   ],
   "metadata": {
    "collapsed": false,
    "pycharm": {
     "name": "#%%\n"
    }
   }
  },
  {
   "cell_type": "code",
   "execution_count": 90,
   "outputs": [
    {
     "name": "stdout",
     "output_type": "stream",
     "text": [
      "Для студента с баллами 45 и 85 мы прогнозируем вероятность поступления 0.7762907240588951\n",
      "Ожидаемое значение: 0.775 +/- 0.002\n"
     ]
    }
   ],
   "source": [
    "prob = sigmoid(np.array([1, 45, 85]).reshape((1, 3)) @ theta.reshape((3, 1))).item()\n",
    "print(f'Для студента с баллами 45 и 85 мы прогнозируем вероятность поступления {prob}')\n",
    "print('Ожидаемое значение: 0.775 +/- 0.002')"
   ],
   "metadata": {
    "collapsed": false,
    "pycharm": {
     "name": "#%%\n"
    }
   }
  },
  {
   "cell_type": "code",
   "execution_count": 91,
   "outputs": [
    {
     "name": "stdout",
     "output_type": "stream",
     "text": [
      "Точность на обучающей выборке 89.0\n",
      "Ожидаемая точность (примерно): 89.0\n"
     ]
    }
   ],
   "source": [
    "def predict(theta, x):\n",
    "    return (h_func(theta, x) >= 0.5).astype(int)\n",
    "\n",
    "p = predict(theta, x)\n",
    "print(\"Точность на обучающей выборке\", np.mean(p == y) * 100)\n",
    "print(\"Ожидаемая точность (примерно): 89.0\")"
   ],
   "metadata": {
    "collapsed": false,
    "pycharm": {
     "name": "#%%\n"
    }
   }
  }
 ],
 "metadata": {
  "kernelspec": {
   "display_name": "Python 3",
   "language": "python",
   "name": "python3"
  },
  "language_info": {
   "codemirror_mode": {
    "name": "ipython",
    "version": 2
   },
   "file_extension": ".py",
   "mimetype": "text/x-python",
   "name": "python",
   "nbconvert_exporter": "python",
   "pygments_lexer": "ipython2",
   "version": "2.7.6"
  }
 },
 "nbformat": 4,
 "nbformat_minor": 0
}